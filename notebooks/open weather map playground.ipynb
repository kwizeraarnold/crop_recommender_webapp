{
 "cells": [
  {
   "cell_type": "code",
   "execution_count": 1,
   "id": "3c985d54-348d-4553-ba3f-2fc3344acdf3",
   "metadata": {},
   "outputs": [],
   "source": [
    "import requests"
   ]
  },
  {
   "cell_type": "code",
   "execution_count": 3,
   "id": "d8defd43-5dc3-4f5f-a877-7147aeee320e",
   "metadata": {},
   "outputs": [],
   "source": [
    "city_name = \"mukono\""
   ]
  },
  {
   "cell_type": "code",
   "execution_count": 4,
   "id": "454a9b96-2a91-4f3a-a2cd-ae8b388a663e",
   "metadata": {},
   "outputs": [],
   "source": [
    "api_key = \"abfb8146fd98ef50e173ea3093df08d5\""
   ]
  },
  {
   "cell_type": "code",
   "execution_count": 5,
   "id": "1a33fea5-cf6b-4177-a159-b3a8666b51f7",
   "metadata": {},
   "outputs": [],
   "source": [
    "base_url = \"https://pro.openweathermap.org/data/2.5/forecast/climate?\""
   ]
  },
  {
   "cell_type": "code",
   "execution_count": 6,
   "id": "f4f486f1-ac92-4f78-a3ae-ad4dd6dec681",
   "metadata": {},
   "outputs": [],
   "source": [
    "complete_url = base_url + \"q=\" + city_name + \"&appid=\" + api_key"
   ]
  },
  {
   "cell_type": "code",
   "execution_count": 83,
   "id": "e6f0c3a4-ab88-4d26-bbad-5bb21f6c2ef6",
   "metadata": {},
   "outputs": [],
   "source": [
    "response = requests.get(complete_url)"
   ]
  },
  {
   "cell_type": "code",
   "execution_count": 84,
   "id": "d3b08bbc-0a61-4e95-abd9-4f4fe8d6d848",
   "metadata": {},
   "outputs": [],
   "source": [
    "x = response.json()"
   ]
  },
  {
   "cell_type": "code",
   "execution_count": 85,
   "id": "fa0bfe5c-fc6a-4fe8-8f83-3900c9c65c89",
   "metadata": {},
   "outputs": [
    {
     "name": "stdout",
     "output_type": "stream",
     "text": [
      "{'city': {'id': 228853, 'name': 'Mukono', 'coord': {'lon': 32.7553, 'lat': 0.3533}, 'country': 'UG', 'population': 67290, 'timezone': 10800}, 'code': '200', 'message': 19.9146712, 'cnt': 30, 'list': [{'dt': 1641546000, 'sunrise': 1641527516, 'sunset': 1641571077, 'temp': {'day': 293.71, 'min': 291.39, 'max': 297.01, 'night': 291.99, 'eve': 297.01, 'morn': 291.39}, 'feels_like': {'day': 293.39, 'night': 291.68, 'eve': 296.73, 'morn': 290.99}, 'pressure': 1013, 'humidity': 60, 'weather': [{'id': 804, 'main': 'Clouds', 'description': 'overcast clouds', 'icon': '04d'}], 'speed': 1.79, 'deg': 97, 'clouds': 97}, {'dt': 1641632400, 'sunrise': 1641613941, 'sunset': 1641657502, 'temp': {'day': 292.81, 'min': 289.54, 'max': 293.45, 'night': 291.33, 'eve': 293.45, 'morn': 293.19}, 'feels_like': {'day': 292.69, 'night': 291.29, 'eve': 293.34, 'morn': 292.87}, 'pressure': 1013, 'humidity': 71, 'weather': [{'id': 500, 'main': 'Rain', 'description': 'light rain', 'icon': '10d'}], 'speed': 2.89, 'deg': 266, 'clouds': 100, 'rain': 1.09}, {'dt': 1641718800, 'sunrise': 1641700366, 'sunset': 1641743927, 'temp': {'day': 293.41, 'min': 289.54, 'max': 298.4, 'night': 294.26, 'eve': 298.4, 'morn': 289.54}, 'feels_like': {'day': 293.24, 'night': 293.97, 'eve': 298.16, 'morn': 289.45}, 'pressure': 1013, 'humidity': 67, 'weather': [{'id': 803, 'main': 'Clouds', 'description': 'broken clouds', 'icon': '04d'}], 'speed': 2.44, 'deg': 226, 'clouds': 76}, {'dt': 1641805200, 'sunrise': 1641786790, 'sunset': 1641830352, 'temp': {'day': 294.31, 'min': 291.33, 'max': 300.37, 'night': 294.56, 'eve': 300.37, 'morn': 292.69}, 'feels_like': {'day': 294.05, 'night': 294.24, 'eve': 299.97, 'morn': 292.45}, 'pressure': 1013, 'humidity': 60, 'weather': [{'id': 803, 'main': 'Clouds', 'description': 'broken clouds', 'icon': '04d'}], 'speed': 4.01, 'deg': 205, 'clouds': 83}, {'dt': 1641891600, 'sunrise': 1641873214, 'sunset': 1641916776, 'temp': {'day': 293.85, 'min': 291.33, 'max': 299.93, 'night': 295.02, 'eve': 299.93, 'morn': 291.33}, 'feels_like': {'day': 293.57, 'night': 294.72, 'eve': 299.81, 'morn': 291.16}, 'pressure': 1012, 'humidity': 61, 'weather': [{'id': 803, 'main': 'Clouds', 'description': 'broken clouds', 'icon': '04d'}], 'speed': 3.85, 'deg': 218, 'clouds': 77}, {'dt': 1641978000, 'sunrise': 1641959638, 'sunset': 1642003199, 'temp': {'day': 294.48, 'min': 291.94, 'max': 300.29, 'night': 294.44, 'eve': 300.29, 'morn': 293.36}, 'feels_like': {'day': 294.21, 'night': 294.19, 'eve': 299.97, 'morn': 293.11}, 'pressure': 1012, 'humidity': 59, 'weather': [{'id': 804, 'main': 'Clouds', 'description': 'overcast clouds', 'icon': '04d'}], 'speed': 3.72, 'deg': 208, 'clouds': 93}, {'dt': 1642064400, 'sunrise': 1642046060, 'sunset': 1642089622, 'temp': {'day': 293.87, 'min': 290.83, 'max': 300.44, 'night': 294.38, 'eve': 300.44, 'morn': 291.94}, 'feels_like': {'day': 293.62, 'night': 294.05, 'eve': 300.02, 'morn': 291.83}, 'pressure': 1013, 'humidity': 62, 'weather': [{'id': 803, 'main': 'Clouds', 'description': 'broken clouds', 'icon': '04d'}], 'speed': 3.65, 'deg': 215, 'clouds': 77}, {'dt': 1642150800, 'sunrise': 1642132483, 'sunset': 1642176044, 'temp': {'day': 293.83, 'min': 290.83, 'max': 300.63, 'night': 294.62, 'eve': 300.63, 'morn': 290.83}, 'feels_like': {'day': 293.52, 'night': 294.23, 'eve': 300.11, 'morn': 290.74}, 'pressure': 1013, 'humidity': 60, 'weather': [{'id': 803, 'main': 'Clouds', 'description': 'broken clouds', 'icon': '04d'}], 'speed': 3.33, 'deg': 220, 'clouds': 56}, {'dt': 1642237200, 'sunrise': 1642218904, 'sunset': 1642262466, 'temp': {'day': 293.48, 'min': 291.68, 'max': 299.31, 'night': 294.54, 'eve': 299.31, 'morn': 291.68}, 'feels_like': {'day': 293.16, 'night': 294.17, 'eve': 299.31, 'morn': 291.42}, 'pressure': 1013, 'humidity': 61, 'weather': [{'id': 803, 'main': 'Clouds', 'description': 'broken clouds', 'icon': '04d'}], 'speed': 3.02, 'deg': 195, 'clouds': 57}, {'dt': 1642323600, 'sunrise': 1642305325, 'sunset': 1642348887, 'temp': {'day': 293.68, 'min': 291.76, 'max': 299.73, 'night': 294.2, 'eve': 299.73, 'morn': 291.76}, 'feels_like': {'day': 293.46, 'night': 293.93, 'eve': 299.73, 'morn': 291.5}, 'pressure': 1011, 'humidity': 64, 'weather': [{'id': 802, 'main': 'Clouds', 'description': 'scattered clouds', 'icon': '03d'}], 'speed': 3.16, 'deg': 200, 'clouds': 26}, {'dt': 1642410000, 'sunrise': 1642391746, 'sunset': 1642435308, 'temp': {'day': 294.2, 'min': 291.95, 'max': 300.11, 'night': 294.84, 'eve': 300.11, 'morn': 291.95}, 'feels_like': {'day': 294.01, 'night': 294.63, 'eve': 299.94, 'morn': 291.74}, 'pressure': 1012, 'humidity': 63, 'weather': [{'id': 801, 'main': 'Clouds', 'description': 'few clouds', 'icon': '02d'}], 'speed': 4.71, 'deg': 196, 'clouds': 24}, {'dt': 1642496400, 'sunrise': 1642478166, 'sunset': 1642521728, 'temp': {'day': 293.64, 'min': 292.17, 'max': 296.84, 'night': 294.02, 'eve': 296.84, 'morn': 293.31}, 'feels_like': {'day': 293.73, 'night': 293.96, 'eve': 296.81, 'morn': 293.29}, 'pressure': 1014, 'humidity': 76, 'weather': [{'id': 500, 'main': 'Rain', 'description': 'light rain', 'icon': '10d'}], 'speed': 3.42, 'deg': 230, 'clouds': 33, 'rain': 2.33}, {'dt': 1642582800, 'sunrise': 1642564585, 'sunset': 1642608147, 'temp': {'day': 293.15, 'min': 292.17, 'max': 299.33, 'night': 295.08, 'eve': 299.33, 'morn': 292.17}, 'feels_like': {'day': 293.27, 'night': 294.95, 'eve': 299.33, 'morn': 292.27}, 'pressure': 1014, 'humidity': 79, 'weather': [{'id': 500, 'main': 'Rain', 'description': 'light rain', 'icon': '10d'}], 'speed': 4.93, 'deg': 206, 'clouds': 53, 'rain': 1.23}, {'dt': 1642669200, 'sunrise': 1642651003, 'sunset': 1642694565, 'temp': {'day': 292.9, 'min': 292.01, 'max': 295.99, 'night': 293.61, 'eve': 295.99, 'morn': 292.92}, 'feels_like': {'day': 293.12, 'night': 293.72, 'eve': 296.13, 'morn': 293.02}, 'pressure': 1014, 'humidity': 84, 'weather': [{'id': 500, 'main': 'Rain', 'description': 'light rain', 'icon': '10d'}], 'speed': 3.94, 'deg': 193, 'clouds': 62, 'rain': 4.46}, {'dt': 1642755600, 'sunrise': 1642737421, 'sunset': 1642780983, 'temp': {'day': 292.02, 'min': 291.76, 'max': 298.08, 'night': 294.29, 'eve': 298.08, 'morn': 292.01}, 'feels_like': {'day': 292.34, 'night': 294.18, 'eve': 297.99, 'morn': 292.25}, 'pressure': 1014, 'humidity': 91, 'weather': [{'id': 500, 'main': 'Rain', 'description': 'light rain', 'icon': '10d'}], 'speed': 3.3, 'deg': 171, 'clouds': 92, 'rain': 4.8}, {'dt': 1642842000, 'sunrise': 1642823838, 'sunset': 1642867400, 'temp': {'day': 292.54, 'min': 291.76, 'max': 298.36, 'night': 294.51, 'eve': 298.36, 'morn': 291.76}, 'feels_like': {'day': 292.73, 'night': 294.32, 'eve': 298.27, 'morn': 291.92}, 'pressure': 1014, 'humidity': 84, 'weather': [{'id': 500, 'main': 'Rain', 'description': 'light rain', 'icon': '10d'}], 'speed': 2.91, 'deg': 200, 'clouds': 70, 'rain': 3.26}, {'dt': 1642928400, 'sunrise': 1642910254, 'sunset': 1642953817, 'temp': {'day': 292.88, 'min': 291.24, 'max': 297.87, 'night': 292.79, 'eve': 297.87, 'morn': 291.79}, 'feels_like': {'day': 293.02, 'night': 292.74, 'eve': 297.78, 'morn': 291.9}, 'pressure': 1013, 'humidity': 81, 'weather': [{'id': 500, 'main': 'Rain', 'description': 'light rain', 'icon': '10d'}], 'speed': 2.32, 'deg': 181, 'clouds': 86, 'rain': 1.82}, {'dt': 1643014800, 'sunrise': 1642996670, 'sunset': 1643040233, 'temp': {'day': 294.2, 'min': 291.24, 'max': 299.69, 'night': 294.58, 'eve': 299.69, 'morn': 291.24}, 'feels_like': {'day': 294.03, 'night': 294.4, 'eve': 299.69, 'morn': 291.17}, 'pressure': 1012, 'humidity': 64, 'weather': [{'id': 802, 'main': 'Clouds', 'description': 'scattered clouds', 'icon': '03d'}], 'speed': 5.07, 'deg': 177, 'clouds': 36}, {'dt': 1643101200, 'sunrise': 1643083084, 'sunset': 1643126648, 'temp': {'day': 292.91, 'min': 292.91, 'max': 299.85, 'night': 295.21, 'eve': 299.85, 'morn': 293.13}, 'feels_like': {'day': 292.93, 'night': 294.88, 'eve': 299.76, 'morn': 293.04}, 'pressure': 1012, 'humidity': 76, 'weather': [{'id': 500, 'main': 'Rain', 'description': 'light rain', 'icon': '10d'}], 'speed': 3.72, 'deg': 206, 'clouds': 79, 'rain': 0.56}, {'dt': 1643187600, 'sunrise': 1643169498, 'sunset': 1643213062, 'temp': {'day': 294.48, 'min': 293.11, 'max': 300.72, 'night': 295.26, 'eve': 300.72, 'morn': 293.14}, 'feels_like': {'day': 294.24, 'night': 294.83, 'eve': 300.08, 'morn': 292.92}, 'pressure': 1012, 'humidity': 60, 'weather': [{'id': 804, 'main': 'Clouds', 'description': 'overcast clouds', 'icon': '04d'}], 'speed': 2.83, 'deg': 167, 'clouds': 90}, {'dt': 1643274000, 'sunrise': 1643255912, 'sunset': 1643299475, 'temp': {'day': 295.06, 'min': 293.11, 'max': 300.94, 'night': 294.77, 'eve': 300.94, 'morn': 293.11}, 'feels_like': {'day': 294.77, 'night': 294.29, 'eve': 300.24, 'morn': 292.81}, 'pressure': 1012, 'humidity': 56, 'weather': [{'id': 802, 'main': 'Clouds', 'description': 'scattered clouds', 'icon': '03d'}], 'speed': 1.45, 'deg': 233, 'clouds': 45}, {'dt': 1643360400, 'sunrise': 1643342324, 'sunset': 1643385888, 'temp': {'day': 294.82, 'min': 292.13, 'max': 300.21, 'night': 294.17, 'eve': 300.21, 'morn': 293.71}, 'feels_like': {'day': 294.45, 'night': 293.79, 'eve': 299.86, 'morn': 293.26}, 'pressure': 1012, 'humidity': 54, 'weather': [{'id': 803, 'main': 'Clouds', 'description': 'broken clouds', 'icon': '04d'}], 'speed': 2.99, 'deg': 157, 'clouds': 78}, {'dt': 1643446800, 'sunrise': 1643428736, 'sunset': 1643472300, 'temp': {'day': 293.91, 'min': 292.13, 'max': 299.83, 'night': 295.24, 'eve': 299.83, 'morn': 292.13}, 'feels_like': {'day': 293.74, 'night': 294.97, 'eve': 299.7, 'morn': 291.89}, 'pressure': 1012, 'humidity': 65, 'weather': [{'id': 500, 'main': 'Rain', 'description': 'light rain', 'icon': '10d'}], 'speed': 4.24, 'deg': 190, 'clouds': 22, 'rain': 0.18}, {'dt': 1643533200, 'sunrise': 1643515147, 'sunset': 1643558711, 'temp': {'day': 293.6, 'min': 292.74, 'max': 299.25, 'night': 294.35, 'eve': 299.25, 'morn': 292.74}, 'feels_like': {'day': 293.45, 'night': 294.07, 'eve': 299.25, 'morn': 292.56}, 'pressure': 1012, 'humidity': 67, 'weather': [{'id': 500, 'main': 'Rain', 'description': 'light rain', 'icon': '10d'}], 'speed': 2.92, 'deg': 174, 'clouds': 75, 'rain': 0.36}, {'dt': 1643619600, 'sunrise': 1643601557, 'sunset': 1643645121, 'temp': {'day': 293.76, 'min': 293.31, 'max': 297.96, 'night': 294.56, 'eve': 297.96, 'morn': 293.31}, 'feels_like': {'day': 293.55, 'night': 294.3, 'eve': 297.72, 'morn': 293.05}, 'pressure': 1012, 'humidity': 64, 'weather': [{'id': 500, 'main': 'Rain', 'description': 'light rain', 'icon': '10d'}], 'speed': 3.99, 'deg': 197, 'clouds': 92, 'rain': 0.48}, {'dt': 1643706000, 'sunrise': 1643687966, 'sunset': 1643731531, 'temp': {'day': 293.68, 'min': 293.37, 'max': 299.7, 'night': 295.39, 'eve': 299.7, 'morn': 293.37}, 'feels_like': {'day': 293.62, 'night': 295.13, 'eve': 299.7, 'morn': 293.2}, 'pressure': 1012, 'humidity': 70, 'weather': [{'id': 500, 'main': 'Rain', 'description': 'light rain', 'icon': '10d'}], 'speed': 3.96, 'deg': 176, 'clouds': 92, 'rain': 1.07}, {'dt': 1643792400, 'sunrise': 1643774375, 'sunset': 1643817940, 'temp': {'day': 292.93, 'min': 292.34, 'max': 298.01, 'night': 294.27, 'eve': 298.01, 'morn': 293.44}, 'feels_like': {'day': 292.92, 'night': 294.16, 'eve': 297.83, 'morn': 293.27}, 'pressure': 1012, 'humidity': 75, 'weather': [{'id': 500, 'main': 'Rain', 'description': 'light rain', 'icon': '10d'}], 'speed': 5.96, 'deg': 182, 'clouds': 94, 'rain': 2.26}, {'dt': 1643878800, 'sunrise': 1643860782, 'sunset': 1643904348, 'temp': {'day': 293.14, 'min': 292.34, 'max': 298.42, 'night': 295.1, 'eve': 298.42, 'morn': 292.34}, 'feels_like': {'day': 293.23, 'night': 294.94, 'eve': 298.26, 'morn': 292.4}, 'pressure': 1014, 'humidity': 78, 'weather': [{'id': 804, 'main': 'Clouds', 'description': 'overcast clouds', 'icon': '04d'}], 'speed': 4.17, 'deg': 217, 'clouds': 91}, {'dt': 1643965200, 'sunrise': 1643947189, 'sunset': 1643990755, 'temp': {'day': 293.14, 'min': 293.14, 'max': 299.18, 'night': 295.44, 'eve': 299.18, 'morn': 293.38}, 'feels_like': {'day': 293.15, 'night': 295.24, 'eve': 299.18, 'morn': 293.31}, 'pressure': 1012, 'humidity': 75, 'weather': [{'id': 500, 'main': 'Rain', 'description': 'light rain', 'icon': '10d'}], 'speed': 4.22, 'deg': 216, 'clouds': 89, 'rain': 0.96}, {'dt': 1644051600, 'sunrise': 1644033595, 'sunset': 1644077161, 'temp': {'day': 294.11, 'min': 292.97, 'max': 299.79, 'night': 294.97, 'eve': 299.79, 'morn': 293.91}, 'feels_like': {'day': 293.98, 'night': 294.77, 'eve': 299.79, 'morn': 293.76}, 'pressure': 1012, 'humidity': 66, 'weather': [{'id': 500, 'main': 'Rain', 'description': 'light rain', 'icon': '10d'}], 'speed': 4.33, 'deg': 231, 'clouds': 95, 'rain': 0.11}]}\n"
     ]
    }
   ],
   "source": [
    "print(x)"
   ]
  },
  {
   "cell_type": "code",
   "execution_count": 86,
   "id": "18e8b3df-d7cb-4a3f-83da-402a0739a873",
   "metadata": {},
   "outputs": [
    {
     "name": "stdout",
     "output_type": "stream",
     "text": [
      "https://pro.openweathermap.org/data/2.5/forecast/climate?q=mukono&appid=abfb8146fd98ef50e173ea3093df08d5\n"
     ]
    }
   ],
   "source": [
    "print(complete_url)"
   ]
  },
  {
   "cell_type": "code",
   "execution_count": 87,
   "id": "89005459-215e-41f0-8585-a911b817f114",
   "metadata": {},
   "outputs": [
    {
     "data": {
      "text/plain": [
       "'200'"
      ]
     },
     "execution_count": 87,
     "metadata": {},
     "output_type": "execute_result"
    }
   ],
   "source": [
    "type(x['list'])\n",
    "x['code']"
   ]
  },
  {
   "cell_type": "code",
   "execution_count": 88,
   "id": "81ea3544-b4f1-4180-95bb-d3828d718683",
   "metadata": {},
   "outputs": [
    {
     "name": "stdout",
     "output_type": "stream",
     "text": [
      "25.84\n"
     ]
    }
   ],
   "source": [
    "temperature = 0\n",
    "\n",
    "for i in x['list']:\n",
    "    temperature += (i['temp']['max'])\n",
    "\n",
    "average_temperature = temperature / 30    \n",
    "print(round(( average_temperature - 273.15), 2))    "
   ]
  },
  {
   "cell_type": "code",
   "execution_count": 89,
   "id": "24c10da1-b7cc-4e88-a765-08f8e5cfa1ac",
   "metadata": {},
   "outputs": [
    {
     "name": "stdout",
     "output_type": "stream",
     "text": [
      "68.43333333333334\n"
     ]
    }
   ],
   "source": [
    "humidity = 0\n",
    "for h in x['list']:\n",
    "    humidity += h['humidity']\n",
    "    \n",
    "print(humidity / 30)    "
   ]
  },
  {
   "cell_type": "code",
   "execution_count": 90,
   "id": "3a5204b0-8f6b-414f-9873-24b49cda7c82",
   "metadata": {},
   "outputs": [
    {
     "data": {
      "text/plain": [
       "(25.58, 70.16666666666667)"
      ]
     },
     "execution_count": 90,
     "metadata": {},
     "output_type": "execute_result"
    }
   ],
   "source": [
    "def weather_fetch(city_name):\n",
    "    \"\"\"\n",
    "    Fetch and returns the temperature and humidity of a city\n",
    "    :params: city_name\n",
    "    :return: temperature, humidity\n",
    "    \"\"\"\n",
    "    api_key = \"abfb8146fd98ef50e173ea3093df08d5\"\n",
    "    total_temperature = 0\n",
    "    total_humidity = 0\n",
    "    average_temperature = 0\n",
    "    average_humidity = 0\n",
    "    base_url = \"https://pro.openweathermap.org/data/2.5/forecast/climate?\"\n",
    "\n",
    "    complete_url = base_url + \"q=\" + city_name + \"&appid=\" + api_key\n",
    "    response = requests.get(complete_url)\n",
    "    x = response.json()\n",
    "\n",
    "    if x[\"code\"] != \"404\":\n",
    "        for i in x['list']:\n",
    "            total_temperature += (i['temp']['max'])\n",
    "\n",
    "        for h in x['list']:\n",
    "            total_humidity += h['humidity']\n",
    "\n",
    "        average_temperature = total_temperature / 30\n",
    "        average_humidity = total_humidity / 30\n",
    "\n",
    "        temperature = round((average_temperature - 273.15), 2)\n",
    "        humidity = average_humidity\n",
    "        return temperature, humidity\n",
    "    else:\n",
    "        return None\n",
    "    \n",
    "weather_fetch('kampala')    "
   ]
  },
  {
   "cell_type": "code",
   "execution_count": null,
   "id": "a597e0aa-b797-4964-8134-30387ddf2029",
   "metadata": {},
   "outputs": [],
   "source": []
  },
  {
   "cell_type": "code",
   "execution_count": null,
   "id": "948ef401-6924-4bae-b20d-2eaea567bc15",
   "metadata": {},
   "outputs": [],
   "source": []
  }
 ],
 "metadata": {
  "kernelspec": {
   "display_name": "Python 3 (ipykernel)",
   "language": "python",
   "name": "python3"
  },
  "language_info": {
   "codemirror_mode": {
    "name": "ipython",
    "version": 3
   },
   "file_extension": ".py",
   "mimetype": "text/x-python",
   "name": "python",
   "nbconvert_exporter": "python",
   "pygments_lexer": "ipython3",
   "version": "3.8.0"
  }
 },
 "nbformat": 4,
 "nbformat_minor": 5
}
